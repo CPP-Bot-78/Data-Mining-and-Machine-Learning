{
 "cells": [
  {
   "cell_type": "markdown",
   "metadata": {},
   "source": [
    "### 2γ) Bayesian Networks\n",
    "\n",
    "Δεν είναι σωστή καθώς ο ταξινομητής που χρησιμοποιήσαμε δεν βασίζεται σε Bayesian Networks αλλά στο θεώρημα του Bayes"
   ]
  },
  {
   "cell_type": "code",
   "execution_count": null,
   "metadata": {},
   "outputs": [],
   "source": [
    "import pandas as pd\n",
    "import numpy as np\n",
    "import os"
   ]
  },
  {
   "cell_type": "markdown",
   "metadata": {},
   "source": [
    "Προετοιμάζουμε το dataset"
   ]
  },
  {
   "cell_type": "code",
   "execution_count": null,
   "metadata": {},
   "outputs": [],
   "source": [
    "CSV_PATH = os.path.join('harth')\n",
    "df6 = pd.read_csv(CSV_PATH + \"/S006.csv\")\n",
    "df20 = pd.read_csv(CSV_PATH + \"/S020.csv\")\n",
    "df28 = pd.read_csv(CSV_PATH + \"/S028.csv\")\n",
    "df15 = pd.read_csv(CSV_PATH + \"/S015.csv\")\n",
    "ultimate_df = pd.concat([df6, df15])\n",
    "\n",
    "data_bayes_train = ultimate_df[['back_x', 'back_y', 'back_z', 'thigh_x', 'thigh_y', 'thigh_z', 'label']]\n",
    "data_bayes_train.dropna()\n",
    "data_bayes_train.drop_duplicates()"
   ]
  },
  {
   "cell_type": "code",
   "execution_count": 9,
   "metadata": {},
   "outputs": [],
   "source": [
    "from sklearn.model_selection import train_test_split\n",
    "# Χωριζουμε σε train & test\n",
    "train_bayes, test_bayes = train_test_split(data_bayes_train, test_size=0.3, random_state=42)\n"
   ]
  },
  {
   "cell_type": "markdown",
   "metadata": {},
   "source": [
    "Δημιουργούμε το Μοντέλο"
   ]
  },
  {
   "cell_type": "code",
   "execution_count": 10,
   "metadata": {},
   "outputs": [],
   "source": [
    "from sklearn.naive_bayes import MultinomialNB, GaussianNB\n",
    "from sklearn.feature_extraction.text import CountVectorizer\n",
    "from sklearn.preprocessing import StandardScaler\n",
    "\n",
    "y_train = train_bayes['label']\n",
    "X_train = train_bayes[['back_x', 'back_y', 'back_z', 'thigh_x', 'thigh_y', 'thigh_z']]\n",
    "X_train.dropna()\n",
    "y_train.dropna()\n",
    "\n",
    "# scaling επειδή το μοντέλο δεν λειτουργεί με αρνητικές τιμές\n",
    "scaler = StandardScaler()\n",
    "X_train = scaler.fit_transform(X_train)\n",
    "log_X_Train= np.log(X_train + 100)\n",
    "log_X_Train = np.nan_to_num(log_X_Train, nan=0)\n",
    "\n",
    "\n",
    "clf = GaussianNB().fit(log_X_Train, y_train)\n",
    "\n",
    "#Testing\n",
    "test_no_lab = test_bayes.drop(columns='label')\n",
    "test_no_lab = scaler.fit_transform(test_no_lab)\n",
    "test_no_lab= np.log(test_no_lab + 100)\n",
    "test_no_lab = np.nan_to_num(test_no_lab, nan=0)\n",
    "predicted_classes = clf.predict(test_no_lab)\n"
   ]
  },
  {
   "cell_type": "markdown",
   "metadata": {},
   "source": [
    "Αξιολόγηση"
   ]
  },
  {
   "cell_type": "code",
   "execution_count": 11,
   "metadata": {},
   "outputs": [
    {
     "name": "stdout",
     "output_type": "stream",
     "text": [
      "Precision: 0.8453, Recall: 0.8663, f1: 0.8511\n"
     ]
    },
    {
     "name": "stderr",
     "output_type": "stream",
     "text": [
      "c:\\codeTools\\Python\\Lib\\site-packages\\sklearn\\metrics\\_classification.py:1509: UndefinedMetricWarning: Precision is ill-defined and being set to 0.0 in labels with no predicted samples. Use `zero_division` parameter to control this behavior.\n",
      "  _warn_prf(average, modifier, f\"{metric.capitalize()} is\", len(result))\n"
     ]
    }
   ],
   "source": [
    "from sklearn.metrics import precision_score, recall_score, f1_score\n",
    "\n",
    "\n",
    "precision = precision_score(test_bayes['label'], predicted_classes, average='weighted')\n",
    "recall = recall_score(test_bayes['label'], predicted_classes, average='weighted')\n",
    "f1 = f1_score(test_bayes['label'], predicted_classes, average='weighted')\n",
    "\n",
    "print(F\"Precision: {precision:.4f}, Recall: {recall:.4f}, f1: {f1:.4f}\")"
   ]
  }
 ],
 "metadata": {
  "kernelspec": {
   "display_name": "Python 3",
   "language": "python",
   "name": "python3"
  },
  "language_info": {
   "codemirror_mode": {
    "name": "ipython",
    "version": 3
   },
   "file_extension": ".py",
   "mimetype": "text/x-python",
   "name": "python",
   "nbconvert_exporter": "python",
   "pygments_lexer": "ipython3",
   "version": "3.12.0"
  }
 },
 "nbformat": 4,
 "nbformat_minor": 2
}
