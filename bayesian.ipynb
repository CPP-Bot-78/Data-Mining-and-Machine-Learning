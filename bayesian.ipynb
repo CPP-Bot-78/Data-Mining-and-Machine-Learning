{
 "cells": [
  {
   "cell_type": "markdown",
   "metadata": {},
   "source": [
    "### 2γ) Bayesian Networks με PGMPY\n",
    "Δεν είναι αποτελεσματική καθώς δεν πιάνει υψηλό accuracy"
   ]
  },
  {
   "cell_type": "code",
   "execution_count": 22,
   "metadata": {},
   "outputs": [
    {
     "data": {
      "text/plain": [
       "'0.1.25'"
      ]
     },
     "execution_count": 22,
     "metadata": {},
     "output_type": "execute_result"
    }
   ],
   "source": [
    "import pgmpy\n",
    "import pandas as pd\n",
    "import numpy as np\n",
    "import os\n",
    "import warnings\n",
    "warnings.filterwarnings(\"ignore\", category=Warning)\n",
    "\n",
    "pgmpy.__version__"
   ]
  },
  {
   "cell_type": "code",
   "execution_count": 23,
   "metadata": {},
   "outputs": [
    {
     "data": {
      "text/html": [
       "<div>\n",
       "<style scoped>\n",
       "    .dataframe tbody tr th:only-of-type {\n",
       "        vertical-align: middle;\n",
       "    }\n",
       "\n",
       "    .dataframe tbody tr th {\n",
       "        vertical-align: top;\n",
       "    }\n",
       "\n",
       "    .dataframe thead th {\n",
       "        text-align: right;\n",
       "    }\n",
       "</style>\n",
       "<table border=\"1\" class=\"dataframe\">\n",
       "  <thead>\n",
       "    <tr style=\"text-align: right;\">\n",
       "      <th></th>\n",
       "      <th>back_x</th>\n",
       "      <th>back_y</th>\n",
       "      <th>back_z</th>\n",
       "      <th>thigh_x</th>\n",
       "      <th>thigh_y</th>\n",
       "      <th>thigh_z</th>\n",
       "      <th>label</th>\n",
       "    </tr>\n",
       "  </thead>\n",
       "  <tbody>\n",
       "    <tr>\n",
       "      <th>0</th>\n",
       "      <td>-0.760242</td>\n",
       "      <td>0.299570</td>\n",
       "      <td>0.468570</td>\n",
       "      <td>-5.092732</td>\n",
       "      <td>-0.298644</td>\n",
       "      <td>0.709439</td>\n",
       "      <td>6</td>\n",
       "    </tr>\n",
       "    <tr>\n",
       "      <th>1</th>\n",
       "      <td>-0.530138</td>\n",
       "      <td>0.281880</td>\n",
       "      <td>0.319987</td>\n",
       "      <td>0.900547</td>\n",
       "      <td>0.286944</td>\n",
       "      <td>0.340309</td>\n",
       "      <td>6</td>\n",
       "    </tr>\n",
       "    <tr>\n",
       "      <th>2</th>\n",
       "      <td>-1.170922</td>\n",
       "      <td>0.186353</td>\n",
       "      <td>-0.167010</td>\n",
       "      <td>-0.035442</td>\n",
       "      <td>-0.078423</td>\n",
       "      <td>-0.515212</td>\n",
       "      <td>6</td>\n",
       "    </tr>\n",
       "    <tr>\n",
       "      <th>3</th>\n",
       "      <td>-0.648772</td>\n",
       "      <td>0.016579</td>\n",
       "      <td>-0.054284</td>\n",
       "      <td>-1.554248</td>\n",
       "      <td>-0.950978</td>\n",
       "      <td>-0.221140</td>\n",
       "      <td>6</td>\n",
       "    </tr>\n",
       "    <tr>\n",
       "      <th>4</th>\n",
       "      <td>-0.355071</td>\n",
       "      <td>-0.051831</td>\n",
       "      <td>-0.113419</td>\n",
       "      <td>-0.547471</td>\n",
       "      <td>0.140903</td>\n",
       "      <td>-0.653782</td>\n",
       "      <td>6</td>\n",
       "    </tr>\n",
       "    <tr>\n",
       "      <th>...</th>\n",
       "      <td>...</td>\n",
       "      <td>...</td>\n",
       "      <td>...</td>\n",
       "      <td>...</td>\n",
       "      <td>...</td>\n",
       "      <td>...</td>\n",
       "      <td>...</td>\n",
       "    </tr>\n",
       "    <tr>\n",
       "      <th>418387</th>\n",
       "      <td>-0.995198</td>\n",
       "      <td>0.003628</td>\n",
       "      <td>-0.013364</td>\n",
       "      <td>-0.948044</td>\n",
       "      <td>0.011695</td>\n",
       "      <td>-0.318949</td>\n",
       "      <td>6</td>\n",
       "    </tr>\n",
       "    <tr>\n",
       "      <th>418388</th>\n",
       "      <td>-0.989947</td>\n",
       "      <td>0.011355</td>\n",
       "      <td>-0.012790</td>\n",
       "      <td>-0.949454</td>\n",
       "      <td>0.013267</td>\n",
       "      <td>-0.322742</td>\n",
       "      <td>6</td>\n",
       "    </tr>\n",
       "    <tr>\n",
       "      <th>418389</th>\n",
       "      <td>-0.998318</td>\n",
       "      <td>-0.001806</td>\n",
       "      <td>-0.013925</td>\n",
       "      <td>-0.947970</td>\n",
       "      <td>0.004826</td>\n",
       "      <td>-0.318672</td>\n",
       "      <td>6</td>\n",
       "    </tr>\n",
       "    <tr>\n",
       "      <th>418390</th>\n",
       "      <td>-0.987699</td>\n",
       "      <td>0.010354</td>\n",
       "      <td>-0.011789</td>\n",
       "      <td>-0.949501</td>\n",
       "      <td>-0.006672</td>\n",
       "      <td>-0.323341</td>\n",
       "      <td>6</td>\n",
       "    </tr>\n",
       "    <tr>\n",
       "      <th>418391</th>\n",
       "      <td>-1.003393</td>\n",
       "      <td>0.003137</td>\n",
       "      <td>-0.016232</td>\n",
       "      <td>-0.948106</td>\n",
       "      <td>0.002363</td>\n",
       "      <td>-0.317164</td>\n",
       "      <td>6</td>\n",
       "    </tr>\n",
       "  </tbody>\n",
       "</table>\n",
       "<p>1363681 rows × 7 columns</p>\n",
       "</div>"
      ],
      "text/plain": [
       "          back_x    back_y    back_z   thigh_x   thigh_y   thigh_z  label\n",
       "0      -0.760242  0.299570  0.468570 -5.092732 -0.298644  0.709439      6\n",
       "1      -0.530138  0.281880  0.319987  0.900547  0.286944  0.340309      6\n",
       "2      -1.170922  0.186353 -0.167010 -0.035442 -0.078423 -0.515212      6\n",
       "3      -0.648772  0.016579 -0.054284 -1.554248 -0.950978 -0.221140      6\n",
       "4      -0.355071 -0.051831 -0.113419 -0.547471  0.140903 -0.653782      6\n",
       "...          ...       ...       ...       ...       ...       ...    ...\n",
       "418387 -0.995198  0.003628 -0.013364 -0.948044  0.011695 -0.318949      6\n",
       "418388 -0.989947  0.011355 -0.012790 -0.949454  0.013267 -0.322742      6\n",
       "418389 -0.998318 -0.001806 -0.013925 -0.947970  0.004826 -0.318672      6\n",
       "418390 -0.987699  0.010354 -0.011789 -0.949501 -0.006672 -0.323341      6\n",
       "418391 -1.003393  0.003137 -0.016232 -0.948106  0.002363 -0.317164      6\n",
       "\n",
       "[1363681 rows x 7 columns]"
      ]
     },
     "execution_count": 23,
     "metadata": {},
     "output_type": "execute_result"
    }
   ],
   "source": [
    "CSV_PATH = os.path.join('harth')\n",
    "df6 = pd.read_csv(CSV_PATH + \"/S006.csv\")\n",
    "df20 = pd.read_csv(CSV_PATH + \"/S020.csv\")\n",
    "df28 = pd.read_csv(CSV_PATH + \"/S028.csv\")\n",
    "df15 = pd.read_csv(CSV_PATH + \"/S015.csv\")\n",
    "ultimate_df = pd.concat([df6, df20, df28, df15])\n",
    "\n",
    "data_bayes_train = ultimate_df[['back_x', 'back_y', 'back_z', 'thigh_x', 'thigh_y', 'thigh_z', 'label']]\n",
    "data_bayes_train.dropna()\n",
    "data_bayes_train.drop_duplicates()"
   ]
  },
  {
   "cell_type": "code",
   "execution_count": null,
   "metadata": {},
   "outputs": [],
   "source": [
    "from sklearn.model_selection import train_test_split\n",
    "\n",
    "train_bayes, test_bayes = train_test_split(data_bayes_train, test_size=0.3, random_state=42)\n",
    "train_bayes = train_bayes.sample(10000, random_state=42)\n",
    "test_bayes = test_bayes.sample(10000, random_state=42)"
   ]
  },
  {
   "cell_type": "markdown",
   "metadata": {},
   "source": [
    "Βοηθητικές Συναρτήσεις"
   ]
  },
  {
   "cell_type": "code",
   "execution_count": 25,
   "metadata": {},
   "outputs": [],
   "source": [
    "from pgmpy.inference import VariableElimination\n",
    "from sklearn.metrics import precision_score, recall_score, f1_score\n",
    "\n",
    "def evaluate_bn(df, bn):\n",
    "    predictor = VariableElimination(bn)\n",
    "    results = []\n",
    "    classes = {}\n",
    "    i = 0\n",
    "    # Output Normalization\n",
    "    for index, c in enumerate(df['label']):\n",
    "        if c not in classes.values():\n",
    "            classes[i] = c\n",
    "            i+=1\n",
    "\n",
    "    for index, row in df.iterrows():\n",
    "        predicted_distribution = predictor.query(variables=['label'], evidence=None)\n",
    "        predicted_label = predicted_distribution.values.argmax()\n",
    "        results.append(classes[predicted_label])\n",
    "    \n",
    "    precision = precision_score(df['label'], results, average='weighted')\n",
    "    recall = recall_score(df['label'], results, average='weighted')\n",
    "    f1 = f1_score(df['label'], results, average='weighted')\n",
    "\n",
    "    print(F\"Precision: {precision:.4f}, Recall: {recall:.4f}, f1: {f1:.4f}\")\n",
    "\n",
    "    return precision, recall, f1\n",
    "   "
   ]
  },
  {
   "cell_type": "code",
   "execution_count": 27,
   "metadata": {},
   "outputs": [],
   "source": [
    "def ensure_consistent_states(data, state_names):\n",
    "    for column in data.columns:\n",
    "        if column in state_names:\n",
    "            data[column] = pd.Categorical(data[column], categories=state_names[column])\n",
    "        else:\n",
    "            state_names[column] = data[column].unique().tolist()\n",
    "    return data, state_names"
   ]
  },
  {
   "cell_type": "markdown",
   "metadata": {},
   "source": [
    "Δημιουργούμε το Μοντέλο"
   ]
  },
  {
   "cell_type": "code",
   "execution_count": null,
   "metadata": {},
   "outputs": [],
   "source": [
    "from pgmpy.models import BayesianNetwork\n",
    "bayesian = BayesianNetwork([('back_x', 'label'), \n",
    "                            ('back_y', 'label'), \n",
    "                            ('back_z', 'label'), \n",
    "                            ('thigh_x', 'label'),\n",
    "                            ('thigh_y', 'label'),\n",
    "                            ('thigh_z', 'label'),\n",
    "                            ('back_x', 'back_y'), \n",
    "                            ('back_y', 'back_z'), \n",
    "                            ('thigh_x', 'thigh_y'), \n",
    "                            ('thigh_y', 'thigh_z')\n",
    "                            ])"
   ]
  },
  {
   "cell_type": "markdown",
   "metadata": {},
   "source": [
    "Εκπαίδευση του Μοντέλου"
   ]
  },
  {
   "cell_type": "code",
   "execution_count": 29,
   "metadata": {},
   "outputs": [
    {
     "data": {
      "text/plain": [
       "True"
      ]
     },
     "execution_count": 29,
     "metadata": {},
     "output_type": "execute_result"
    }
   ],
   "source": [
    "\n",
    "state_names = {}\n",
    "initial_data = train_bayes[:10]\n",
    "subsequent_batches = [train_bayes[i:i+10] for i in range(10, len(train_bayes), 10)]\n",
    "initial_data, state_names = ensure_consistent_states(initial_data, state_names)\n",
    "bayesian.fit(initial_data)\n",
    "n_prev_samples = len(initial_data)\n",
    "\n",
    "\n",
    "for batch in subsequent_batches:\n",
    "    batch, state_names = ensure_consistent_states(batch, state_names)\n",
    "    try:\n",
    "        bayesian.fit_update(batch, n_prev_samples=n_prev_samples)\n",
    "        n_prev_samples += len(batch)\n",
    "    except ValueError as e:\n",
    "        print(f\"Error updating with batch: {e}\")\n",
    "\n",
    "\n",
    "bayesian.check_model()\n"
   ]
  },
  {
   "cell_type": "markdown",
   "metadata": {},
   "source": [
    "Αξιολόγηση"
   ]
  },
  {
   "cell_type": "code",
   "execution_count": 30,
   "metadata": {},
   "outputs": [
    {
     "name": "stdout",
     "output_type": "stream",
     "text": [
      "Precision: 0.2510, Recall: 0.5010, f1: 0.3344\n"
     ]
    }
   ],
   "source": [
    "prec_m, recl_m, f1_m = evaluate_bn(test_bayes, bayesian)\n"
   ]
  }
 ],
 "metadata": {
  "kernelspec": {
   "display_name": "Python 3",
   "language": "python",
   "name": "python3"
  },
  "language_info": {
   "codemirror_mode": {
    "name": "ipython",
    "version": 3
   },
   "file_extension": ".py",
   "mimetype": "text/x-python",
   "name": "python",
   "nbconvert_exporter": "python",
   "pygments_lexer": "ipython3",
   "version": "3.12.0"
  }
 },
 "nbformat": 4,
 "nbformat_minor": 2
}
