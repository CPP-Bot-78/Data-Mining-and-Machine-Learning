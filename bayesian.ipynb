{
 "cells": [
  {
   "cell_type": "markdown",
   "metadata": {},
   "source": [
    "### 2γ) Bayesian Networks"
   ]
  },
  {
   "cell_type": "code",
   "execution_count": 1,
   "metadata": {},
   "outputs": [
    {
     "data": {
      "text/plain": [
       "'0.1.25'"
      ]
     },
     "execution_count": 1,
     "metadata": {},
     "output_type": "execute_result"
    }
   ],
   "source": [
    "import pgmpy\n",
    "import pandas as pd\n",
    "import numpy as np\n",
    "import os\n",
    "pgmpy.__version__\n"
   ]
  },
  {
   "cell_type": "code",
   "execution_count": 2,
   "metadata": {},
   "outputs": [
    {
     "name": "stdout",
     "output_type": "stream",
     "text": [
      "\"['index'] not found in axis\"\n"
     ]
    }
   ],
   "source": [
    "CSV_PATH = os.path.join('harth')\n",
    "csvs = os.listdir(CSV_PATH)\n",
    "\n",
    "df6 = pd.read_csv(CSV_PATH + \"/S006.csv\")\n",
    "df9 = pd.read_csv(CSV_PATH + \"/S009.csv\") \n",
    "csvs2 = csvs[:]\n",
    "if \"S006.csv\" in csvs2:\n",
    "    csvs2.pop(0)\n",
    "    csvs2.pop(1)\n",
    "\"\"\"csvs2.remove(\"S015.csv\")\n",
    "csvs2.remove(\"S021.csv\")\n",
    "csvs2.remove(\"S023.csv\")\"\"\"\n",
    "ultimate_df = pd.concat([df6, df9])\n",
    "count = 0\n",
    "for file in csvs2:\n",
    "    if count >=5:\n",
    "        break\n",
    "    new_df = pd.read_csv(CSV_PATH + f\"/{file}\")\n",
    "    ultimate_df = pd.concat([ultimate_df , new_df], axis=0)\n",
    "    count+=1\n",
    "\n",
    "try:\n",
    "    ultimate_df.drop(columns='index', inplace=True)\n",
    "except KeyError as e:\n",
    "    print(e)"
   ]
  },
  {
   "cell_type": "code",
   "execution_count": 3,
   "metadata": {},
   "outputs": [
    {
     "name": "stdout",
     "output_type": "stream",
     "text": [
      "     back_x    back_y    back_z   thigh_x   thigh_y   thigh_z  label\n",
      "0 -0.760242  0.299570  0.468570 -5.092732 -0.298644  0.709439      6\n",
      "1 -0.530138  0.281880  0.319987  0.900547  0.286944  0.340309      6\n",
      "2 -1.170922  0.186353 -0.167010 -0.035442 -0.078423 -0.515212      6\n",
      "3 -0.648772  0.016579 -0.054284 -1.554248 -0.950978 -0.221140      6\n",
      "4 -0.355071 -0.051831 -0.113419 -0.547471  0.140903 -0.653782      6\n"
     ]
    }
   ],
   "source": [
    "data_bayes_train = ultimate_df[['back_x', 'back_y', 'back_z', 'thigh_x', 'thigh_y', 'thigh_z', 'label']]\n",
    "data_bayes_train.dropna()\n",
    "data_bayes_train.drop_duplicates()\n",
    "print(data_bayes_train.head())\n"
   ]
  },
  {
   "cell_type": "markdown",
   "metadata": {},
   "source": [
    "Δημιουργούμε το Μοντέλο"
   ]
  },
  {
   "cell_type": "code",
   "execution_count": 4,
   "metadata": {
    "metadata": {}
   },
   "outputs": [],
   "source": [
    "from pgmpy.models import BayesianNetwork\n",
    "bayesian = BayesianNetwork([('back_x', 'label'), \n",
    "                            ('back_y', 'label'), \n",
    "                            ('back_z', 'label'), \n",
    "                            ('thigh_x', 'label'),\n",
    "                            ('thigh_y', 'label'),\n",
    "                            ('thigh_z', 'label'), ])\n"
   ]
  },
  {
   "cell_type": "code",
   "execution_count": 15,
   "metadata": {},
   "outputs": [],
   "source": [
    "from sklearn.model_selection import train_test_split\n",
    "train_bayes, test_bayes = train_test_split(data_bayes_train, test_size=0.3, random_state=42)\n",
    "sampled_data = train_bayes.sample(9, random_state=42)\n",
    "sampled_test= test_bayes.sample(9, random_state=42)\n",
    "sampled_test_labels = sampled_test['label']\n",
    "sampled_test_no=sampled_test.drop(columns='label')"
   ]
  },
  {
   "cell_type": "code",
   "execution_count": 16,
   "metadata": {},
   "outputs": [
    {
     "name": "stderr",
     "output_type": "stream",
     "text": [
      "WARNING:pgmpy:Replacing existing CPD for back_x\n",
      "WARNING:pgmpy:Replacing existing CPD for back_y\n",
      "WARNING:pgmpy:Replacing existing CPD for back_z\n",
      "WARNING:pgmpy:Replacing existing CPD for thigh_x\n",
      "WARNING:pgmpy:Replacing existing CPD for thigh_y\n",
      "WARNING:pgmpy:Replacing existing CPD for thigh_z\n",
      "WARNING:pgmpy:Replacing existing CPD for label\n"
     ]
    },
    {
     "data": {
      "text/plain": [
       "True"
      ]
     },
     "execution_count": 16,
     "metadata": {},
     "output_type": "execute_result"
    }
   ],
   "source": [
    "from pgmpy.estimators import BayesianEstimator\n",
    "from pgmpy.estimators import MaximumLikelihoodEstimator\n",
    "cpd_back_x =  MaximumLikelihoodEstimator(bayesian, sampled_data).estimate_cpd('back_x')\n",
    "cpd_back_y =  MaximumLikelihoodEstimator(bayesian, sampled_data).estimate_cpd('back_y')\n",
    "cpd_back_z =  MaximumLikelihoodEstimator(bayesian, sampled_data).estimate_cpd('back_z')\n",
    "cpd_thigh_x = MaximumLikelihoodEstimator(bayesian, sampled_data).estimate_cpd('thigh_x')\n",
    "cpd_thigh_y = MaximumLikelihoodEstimator(bayesian, sampled_data).estimate_cpd('thigh_y')\n",
    "cpd_thigh_z = MaximumLikelihoodEstimator(bayesian, sampled_data).estimate_cpd('thigh_z')\n",
    "#cpd_label = BayesianEstimator(bayesian, data_bayes_train).estimate_cpd('label')\n",
    "cpd_label =   MaximumLikelihoodEstimator(bayesian, sampled_data).estimate_cpd('label')\n",
    "\n",
    "bayesian.add_cpds(cpd_back_x,cpd_back_y,cpd_back_z,cpd_thigh_x,cpd_thigh_y,cpd_thigh_z,cpd_label)\n",
    "bayesian.check_model()"
   ]
  },
  {
   "cell_type": "code",
   "execution_count": 17,
   "metadata": {},
   "outputs": [],
   "source": [
    "from pgmpy.inference import VariableElimination\n",
    "\n",
    "bayesian_pred = VariableElimination(bayesian)"
   ]
  },
  {
   "cell_type": "markdown",
   "metadata": {},
   "source": [
    "Δοκιμη σε γνωστά δεδομένα"
   ]
  },
  {
   "cell_type": "code",
   "execution_count": 40,
   "metadata": {},
   "outputs": [
    {
     "name": "stdout",
     "output_type": "stream",
     "text": [
      "{0: 3, 1: 7, 2: 13}\n",
      "[3, 7, 7, 7, 7, 7, 7, 7, 13]\n"
     ]
    }
   ],
   "source": [
    "results = []\n",
    "classes = {}\n",
    "i = 0\n",
    "for index, c in enumerate(sampled_data['label']):\n",
    "    if c not in classes.values():\n",
    "        classes[i] = c\n",
    "        i+=1\n",
    "print(classes)\n",
    "\n",
    "for index, row in sampled_data.iterrows(): # sampled_test\n",
    "    # Extract observed evidence from the current row\n",
    "    evidence = {\n",
    "        'back_x': row['back_x'],\n",
    "        'back_y': row['back_y'],\n",
    "        'back_z': row['back_z'],\n",
    "        'thigh_x': row['thigh_x'],\n",
    "        'thigh_y': row['thigh_y'],\n",
    "        'thigh_z': row['thigh_z']\n",
    "    }\n",
    "    predicted_distribution = bayesian_pred.query(variables=['label'], evidence=evidence)\n",
    "\n",
    "    # Get the most probable value for the target variable ('label')\n",
    "    predicted_label = predicted_distribution.values.argmax()\n",
    "    results.append(classes[predicted_label])\n",
    "print(results)"
   ]
  },
  {
   "cell_type": "code",
   "execution_count": 42,
   "metadata": {},
   "outputs": [
    {
     "name": "stdout",
     "output_type": "stream",
     "text": [
      "Precision: 1.0\n",
      "Recall: 1.0\n",
      "F1-score: 1.0\n"
     ]
    }
   ],
   "source": [
    "from sklearn.metrics import precision_score, recall_score, f1_score\n",
    "\n",
    "precision = precision_score(sampled_data['label'], results, average='weighted')\n",
    "recall = recall_score(sampled_data['label'], results, average='weighted')\n",
    "f1 = f1_score(sampled_data['label'], results, average='weighted')\n",
    "\n",
    "print(\"Precision:\", precision)\n",
    "print(\"Recall:\", recall)\n",
    "print(\"F1-score:\", f1)"
   ]
  },
  {
   "cell_type": "markdown",
   "metadata": {},
   "source": [
    "Δοκιμή σε άγνωστα δεδομένα"
   ]
  },
  {
   "cell_type": "code",
   "execution_count": 43,
   "metadata": {},
   "outputs": [
    {
     "name": "stdout",
     "output_type": "stream",
     "text": [
      "{0: 6, 1: 7, 2: 4}\n",
      "[7, 7, 7, 7, 7, 7, 7, 7, 7]\n"
     ]
    }
   ],
   "source": [
    "unseen_results = []\n",
    "classes = {}\n",
    "i = 0\n",
    "for index, c in enumerate(sampled_test['label']):\n",
    "    if c not in classes.values():\n",
    "        classes[i] = c\n",
    "        i+=1\n",
    "print(classes)\n",
    "\n",
    "\n",
    "for index, row in sampled_test.iterrows(): # sampled_test\n",
    "    # Extract observed evidence from the current row\n",
    "    predicted_distribution = bayesian_pred.query(variables=['label'], evidence=None)\n",
    "\n",
    "    # Get the most probable value for the target variable ('label')\n",
    "    predicted_label = predicted_distribution.values.argmax()\n",
    "    unseen_results.append(classes[predicted_label])\n",
    "print(unseen_results)"
   ]
  },
  {
   "cell_type": "code",
   "execution_count": 44,
   "metadata": {},
   "outputs": [
    {
     "name": "stdout",
     "output_type": "stream",
     "text": [
      "Precision: 0.30864197530864196\n",
      "Recall: 0.5555555555555556\n",
      "F1-score: 0.39682539682539686\n"
     ]
    },
    {
     "name": "stderr",
     "output_type": "stream",
     "text": [
      "c:\\codeTools\\Python\\Lib\\site-packages\\sklearn\\metrics\\_classification.py:1509: UndefinedMetricWarning: Precision is ill-defined and being set to 0.0 in labels with no predicted samples. Use `zero_division` parameter to control this behavior.\n",
      "  _warn_prf(average, modifier, f\"{metric.capitalize()} is\", len(result))\n"
     ]
    }
   ],
   "source": [
    "from sklearn.metrics import precision_score, recall_score, f1_score\n",
    "\n",
    "precision = precision_score(sampled_test['label'], unseen_results, average='weighted')\n",
    "recall = recall_score(sampled_test['label'], unseen_results, average='weighted')\n",
    "f1 = f1_score(sampled_test['label'], unseen_results, average='weighted')\n",
    "\n",
    "print(\"Precision:\", precision)\n",
    "print(\"Recall:\", recall)\n",
    "print(\"F1-score:\", f1)"
   ]
  }
 ],
 "metadata": {
  "kernelspec": {
   "display_name": "Python 3",
   "language": "python",
   "name": "python3"
  },
  "language_info": {
   "codemirror_mode": {
    "name": "ipython",
    "version": 3
   },
   "file_extension": ".py",
   "mimetype": "text/x-python",
   "name": "python",
   "nbconvert_exporter": "python",
   "pygments_lexer": "ipython3",
   "version": "3.12.0"
  }
 },
 "nbformat": 4,
 "nbformat_minor": 2
}
